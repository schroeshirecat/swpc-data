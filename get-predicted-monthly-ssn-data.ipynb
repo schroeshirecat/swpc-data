{
 "cells": [
  {
   "cell_type": "code",
   "execution_count": 1,
   "metadata": {},
   "outputs": [
    {
     "name": "stdout",
     "output_type": "stream",
     "text": [
      "         date  flux_high  flux_low  flux_predicted  ssn_high  ssn_low  \\\n",
      "0  2022-12-01  67.900002      60.0       58.900002      10.2      0.0   \n",
      "1  2022-11-01  67.900002      60.0       58.900002      10.2      0.0   \n",
      "2  2022-10-01  67.900002      60.0       58.900002      10.2      0.0   \n",
      "\n",
      "   ssn_predicted  \n",
      "0            0.2  \n",
      "1            0.2  \n",
      "2            0.2  \n"
     ]
    }
   ],
   "source": [
    "import pandas as pd\n",
    "import numpy as np\n",
    "import matplotlib.pyplot as plt\n",
    "import matplotlib.ticker as ticker\n",
    "import requests\n",
    "import datetime\n",
    "\n",
    "# The 'predicted_monthly_sunspot_number.json' contains several data columns, but here I am\n",
    "# interested only in the 'ssn_predicted' data.\n",
    "\n",
    "if __name__ == \"__main__\":\n",
    "    \"get data from website as json and draw a figure with it\"\n",
    "    data_url = 'https://services.swpc.noaa.gov/json/predicted_monthly_sunspot_number.json'\n",
    "    r = requests.get(data_url)\n",
    "    data = r.json()\n",
    "    df = pd.DataFrame(data)\n",
    "    print(df.head(n=3))\n"
   ]
  },
  {
   "cell_type": "markdown",
   "metadata": {},
   "source": [
    "I want the oldest date first for plotting. So I make sure the dataframeis sorted againt column 'date'"
   ]
  },
  {
   "cell_type": "code",
   "execution_count": 2,
   "metadata": {},
   "outputs": [
    {
     "name": "stdout",
     "output_type": "stream",
     "text": [
      "          date  flux_high   flux_low  flux_predicted  ssn_high  ssn_low  \\\n",
      "43  2019-05-01  70.199997  68.199997       69.199997       3.5      1.5   \n",
      "42  2019-06-01  69.699997  67.699997       68.699997       4.7      0.7   \n",
      "41  2019-07-01  70.000000  66.000000       68.000000       5.7      0.0   \n",
      "\n",
      "    ssn_predicted  \n",
      "43            2.5  \n",
      "42            2.7  \n",
      "41            2.7  \n"
     ]
    }
   ],
   "source": [
    "df_sorted = df.sort_values('date',ascending=True)\n",
    "print(df_sorted.head(n=3))"
   ]
  },
  {
   "cell_type": "markdown",
   "metadata": {},
   "source": [
    "Now we do create the plot for display. This will not save the plot to disk though, but only display it on screen"
   ]
  },
  {
   "cell_type": "markdown",
   "metadata": {},
   "source": [
    "The next block is needed because for some reason the labels were not created automatically, so I am doing this manually. I need the number of ticks first"
   ]
  },
  {
   "cell_type": "code",
   "execution_count": 3,
   "metadata": {},
   "outputs": [],
   "source": [
    "first_date = df_sorted['date'].min()\n",
    "last_date = df_sorted['date'].max()\n",
    "periods = len(df_sorted['date'])\n",
    "df_date_range= pd.date_range(first_date,last_date,freq='MS')"
   ]
  },
  {
   "cell_type": "markdown",
   "metadata": {},
   "source": [
    "Now I can draw the figure"
   ]
  },
  {
   "cell_type": "code",
   "execution_count": 4,
   "metadata": {},
   "outputs": [
    {
     "data": {
      "text/plain": [
       "<Figure size 432x288 with 0 Axes>"
      ]
     },
     "metadata": {},
     "output_type": "display_data"
    },
    {
     "data": {
      "image/png": "[encoded data removed]",
      "text/plain": [
       "<Figure size 432x288 with 1 Axes>"
      ]
     },
     "metadata": {
      "needs_background": "light"
     },
     "output_type": "display_data"
    }
   ],
   "source": [
    "plt.figure()\n",
    "ax=df_sorted.plot(x='date',y='ssn_predicted',kind='line',style=['r*'],label='Number of sunspots')\n",
    "ax.set_xticks(np.arange(-2,46)[::2]) # The [::2] is to only display every second tick\n",
    "ax.set_xticklabels(df_date_range.date[::2],rotation=45) # The [::2] is to only display every second label\n",
    "plt.grid(True) # Set to 'False' to turn off the grid-lines\n",
    "ax.set_ylabel('Number of Sunspots')\n",
    "plt.title(\"Predicted Number of Sunspots\")\n",
    "plt.setp(ax.xaxis.get_label(), visible=True, text='Date')\n",
    "plt.show()"
   ]
  }
 ],
 "metadata": {
  "kernelspec": {
   "display_name": "Python 3",
   "language": "python",
   "name": "python3"
  },
  "language_info": {
   "codemirror_mode": {
    "name": "ipython",
    "version": 3
   },
   "file_extension": ".py",
   "mimetype": "text/x-python",
   "name": "python",
   "nbconvert_exporter": "python",
   "pygments_lexer": "ipython3",
   "version": "3.7.5rc1"
  }
 },
 "nbformat": 4,
 "nbformat_minor": 2
}
